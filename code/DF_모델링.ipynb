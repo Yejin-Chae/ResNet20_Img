{
  "cells": [
    {
      "cell_type": "code",
      "execution_count": null,
      "metadata": {
        "id": "JsQdeLa9-xsb"
      },
      "outputs": [],
      "source": [
        "import PIL\n",
        "import torch\n",
        "import torch.nn as nn\n",
        "import torch.nn.functional as F\n",
        "import torch.optim as optim\n",
        "import torchvision.transforms as transforms\n",
        "import matplotlib.pyplot as plt\n",
        "import numpy as np\n",
        "import json\n",
        "import os\n",
        "from tqdm import tqdm"
      ]
    },
    {
      "cell_type": "code",
      "execution_count": null,
      "metadata": {
        "id": "KFiD7tlh-1Cv"
      },
      "outputs": [],
      "source": [
        "if torch.cuda.is_available():\n",
        "  device = torch.device('cuda')\n",
        "else:\n",
        "  device = torch.device('cpu')"
      ]
    },
    {
      "cell_type": "code",
      "execution_count": null,
      "metadata": {
        "id": "o2XD60kI-2wk",
        "colab": {
          "base_uri": "https://localhost:8080/"
        },
        "outputId": "3063fdc0-82c4-4aa6-8a9d-c5c61f94d86f"
      },
      "outputs": [
        {
          "output_type": "stream",
          "name": "stdout",
          "text": [
            "Drive already mounted at /content/drive; to attempt to forcibly remount, call drive.mount(\"/content/drive\", force_remount=True).\n"
          ]
        }
      ],
      "source": [
        "# 구글 드라이브 불러오기\n",
        "from google.colab import drive\n",
        "drive.mount('/content/drive')"
      ]
    },
    {
      "cell_type": "code",
      "execution_count": null,
      "metadata": {
        "id": "t43afTtY-4JF"
      },
      "outputs": [],
      "source": [
        "# tensor를 .npy 파일로 저장하는 함수\n",
        "# data_np 를 경로 '/content/drive/MyDrive/DF/전처리 파일/filename.npy'로 저장\n",
        "def tensor_toFile(data, filename):\n",
        "  data_np = data.cpu().numpy()\n",
        "  np.save('/content/drive/MyDrive/DF/전처리 파일/'+filename, data_np)\n",
        "\n",
        "\n",
        "# .npy 파일 불러와서 tensor로 저장하는 함수\n",
        "def file_toTensor(filename):\n",
        "  np_load = np.load('/content/drive/MyDrive/DF/전처리 파일/'+filename+'.npy')\n",
        "  img_tensor = torch.from_numpy(np_load)\n",
        "  return img_tensor"
      ]
    },
    {
      "cell_type": "markdown",
      "metadata": {
        "id": "tfkTsp_qVylF"
      },
      "source": [
        "## 데이터 불러와서 합치기"
      ]
    },
    {
      "cell_type": "code",
      "execution_count": null,
      "metadata": {
        "id": "CGr5Er6K_PQ9",
        "colab": {
          "base_uri": "https://localhost:8080/"
        },
        "outputId": "f1c280b0-5ae8-4da2-c9d2-211b6f81233c"
      },
      "outputs": [
        {
          "output_type": "execute_result",
          "data": {
            "text/plain": [
              "torch.Size([1700, 3, 32, 32])"
            ]
          },
          "metadata": {},
          "execution_count": 38
        }
      ],
      "source": [
        "PP_data = file_toTensor('PP_data')\n",
        "PP_data = F.interpolate(PP_data, scale_factor=1/8, mode='bicubic')\n",
        "PP_data.size()"
      ]
    },
    {
      "cell_type": "code",
      "source": [
        "PS_data = file_toTensor('ps_data')\n",
        "PS_data = F.interpolate(PS_data, scale_factor=1/8, mode='bicubic')\n",
        "PS_data.size()"
      ],
      "metadata": {
        "colab": {
          "base_uri": "https://localhost:8080/"
        },
        "id": "NFQSTAaoPv8b",
        "outputId": "6a895579-8c87-47cd-da25-faddddd1e718"
      },
      "execution_count": null,
      "outputs": [
        {
          "output_type": "execute_result",
          "data": {
            "text/plain": [
              "torch.Size([930, 3, 32, 32])"
            ]
          },
          "metadata": {},
          "execution_count": 39
        }
      ]
    },
    {
      "cell_type": "code",
      "source": [
        "PE_data = file_toTensor('pe_data')\n",
        "PE_data = F.interpolate(PE_data, scale_factor=1/8, mode='bicubic')\n",
        "PE_data.size()"
      ],
      "metadata": {
        "colab": {
          "base_uri": "https://localhost:8080/"
        },
        "id": "brFLIif6PvSa",
        "outputId": "f8d0c00a-a13e-4e77-e50b-7aa6b2b7a4e3"
      },
      "execution_count": null,
      "outputs": [
        {
          "output_type": "execute_result",
          "data": {
            "text/plain": [
              "torch.Size([3152, 3, 32, 32])"
            ]
          },
          "metadata": {},
          "execution_count": 40
        }
      ]
    },
    {
      "cell_type": "code",
      "source": [
        "PET_data = file_toTensor('PET_data')\n",
        "PET_data = F.interpolate(PET_data, scale_factor=1/8, mode='bicubic')\n",
        "PET_data.size()"
      ],
      "metadata": {
        "colab": {
          "base_uri": "https://localhost:8080/"
        },
        "id": "npisBO2PfoJa",
        "outputId": "990915ce-5b26-41c7-823f-91a73f807c2f"
      },
      "execution_count": null,
      "outputs": [
        {
          "output_type": "execute_result",
          "data": {
            "text/plain": [
              "torch.Size([2524, 3, 32, 32])"
            ]
          },
          "metadata": {},
          "execution_count": 37
        }
      ]
    },
    {
      "cell_type": "code",
      "source": [
        "PET_class = file_toTensor('PET_class')\n",
        "PP_class = file_toTensor('PP_class')\n",
        "PS_class = file_toTensor('ps_class')\n",
        "PE_class = file_toTensor('pe_class')"
      ],
      "metadata": {
        "id": "H1Od2h71Pt27"
      },
      "execution_count": null,
      "outputs": []
    },
    {
      "cell_type": "code",
      "execution_count": null,
      "metadata": {
        "colab": {
          "base_uri": "https://localhost:8080/"
        },
        "id": "JQkkcTAtCEx9",
        "outputId": "521041af-8040-4264-d99f-da9fc35c9610"
      },
      "outputs": [
        {
          "output_type": "execute_result",
          "data": {
            "text/plain": [
              "(torch.Size([2524, 3, 32, 32]),\n",
              " torch.Size([1700, 3, 32, 32]),\n",
              " torch.Size([930, 3, 32, 32]),\n",
              " torch.Size([3152, 3, 32, 32]),\n",
              " torch.Size([2524]),\n",
              " torch.Size([1700]),\n",
              " torch.Size([930]),\n",
              " torch.Size([3152]))"
            ]
          },
          "metadata": {},
          "execution_count": 42
        }
      ],
      "source": [
        "PET_data.size(), PP_data.size(), PS_data.size(), PE_data.size(), PET_class.size(), PP_class.size(), PS_class.size(), PE_class.size()"
      ]
    },
    {
      "cell_type": "code",
      "execution_count": null,
      "metadata": {
        "id": "14CyunT6GHJA"
      },
      "outputs": [],
      "source": [
        "data = torch.vstack((PET_data, PP_data, PS_data, PE_data))"
      ]
    },
    {
      "cell_type": "code",
      "execution_count": null,
      "metadata": {
        "colab": {
          "base_uri": "https://localhost:8080/"
        },
        "id": "5JJbwk6KLj9g",
        "outputId": "a53f827f-cdad-4330-e7fd-75601f487dc9"
      },
      "outputs": [
        {
          "output_type": "execute_result",
          "data": {
            "text/plain": [
              "torch.Size([8306, 3, 32, 32])"
            ]
          },
          "metadata": {},
          "execution_count": 44
        }
      ],
      "source": [
        "data.size()"
      ]
    },
    {
      "cell_type": "code",
      "execution_count": null,
      "metadata": {
        "id": "Gz6TT0ojMkjF"
      },
      "outputs": [],
      "source": [
        "target = torch.cat((PET_class, PP_class, PS_class, PE_class))"
      ]
    },
    {
      "cell_type": "code",
      "execution_count": null,
      "metadata": {
        "colab": {
          "base_uri": "https://localhost:8080/"
        },
        "id": "MohMZ2NANWsF",
        "outputId": "616e5301-c8ff-42eb-adb9-254c878edf5b"
      },
      "outputs": [
        {
          "output_type": "execute_result",
          "data": {
            "text/plain": [
              "torch.Size([8306])"
            ]
          },
          "metadata": {},
          "execution_count": 46
        }
      ],
      "source": [
        "target.size()"
      ]
    },
    {
      "cell_type": "code",
      "source": [
        "# PET=0 (2524), PP=1 (1700), PS=2 (930), PE=3 (3152)\n",
        "target[0:2524] = 0\n",
        "target[2524:4224] = 1\n",
        "target[4224:5154]=2\n",
        "target[5154:] = 3\n",
        "\n",
        "target.unique()"
      ],
      "metadata": {
        "id": "_khSE-lWWnU9",
        "colab": {
          "base_uri": "https://localhost:8080/"
        },
        "outputId": "29e73e9c-7a8c-4ab3-a955-64a39d9786af"
      },
      "execution_count": null,
      "outputs": [
        {
          "output_type": "execute_result",
          "data": {
            "text/plain": [
              "tensor([0, 1, 2, 3])"
            ]
          },
          "metadata": {},
          "execution_count": 47
        }
      ]
    },
    {
      "cell_type": "code",
      "execution_count": null,
      "metadata": {
        "id": "ULY_QOwPVKw7"
      },
      "outputs": [],
      "source": [
        "tensor_toFile(data, 'data')\n",
        "tensor_toFile(target, 'target')"
      ]
    },
    {
      "cell_type": "markdown",
      "metadata": {
        "id": "9LDOL3K7WG2w"
      },
      "source": [
        "## 모델링"
      ]
    },
    {
      "cell_type": "code",
      "execution_count": null,
      "metadata": {
        "colab": {
          "base_uri": "https://localhost:8080/"
        },
        "id": "eZjkIr-WWK3x",
        "outputId": "b1d70cc3-b1cd-4fc1-ebdf-b9d994a549a8"
      },
      "outputs": [
        {
          "output_type": "stream",
          "name": "stdout",
          "text": [
            "데이터 크기: torch.Size([8306, 3, 32, 32])\n",
            "타겟 크기: torch.Size([8306])\n"
          ]
        }
      ],
      "source": [
        "data = file_toTensor('data')\n",
        "target = file_toTensor('target')\n",
        "print('데이터 크기:',data.size())\n",
        "print('타겟 크기:',target.size())"
      ]
    },
    {
      "cell_type": "code",
      "source": [
        "# PET=0 (2524), PP=1 (1700), PS=2 (930), PE=3 (3152)\n",
        "print(target.unique())\n",
        "print(target.bincount())"
      ],
      "metadata": {
        "colab": {
          "base_uri": "https://localhost:8080/"
        },
        "id": "9SgtDOMVYLN6",
        "outputId": "1ebf7312-0b90-485c-9606-fb6b6a086803"
      },
      "execution_count": null,
      "outputs": [
        {
          "output_type": "stream",
          "name": "stdout",
          "text": [
            "tensor([0, 1, 2, 3])\n",
            "tensor([2524, 1700,  930, 3152])\n"
          ]
        }
      ]
    },
    {
      "cell_type": "code",
      "execution_count": null,
      "metadata": {
        "id": "Ydrxo08HNXlU"
      },
      "outputs": [],
      "source": [
        "from sklearn.model_selection import train_test_split\n",
        "\n",
        "X_train, X_test, y_train, y_test = train_test_split(data, target, test_size=0.3, shuffle=True,\n",
        "                                                    stratify=target, random_state=42)"
      ]
    },
    {
      "cell_type": "code",
      "execution_count": null,
      "metadata": {
        "colab": {
          "base_uri": "https://localhost:8080/"
        },
        "id": "0b5KQXZHRvnw",
        "outputId": "ec1b0e81-1073-4531-dc86-2fcd8c811b07"
      },
      "outputs": [
        {
          "output_type": "stream",
          "name": "stdout",
          "text": [
            "train 데이터 크기: torch.Size([5814, 3, 32, 32])\n",
            "test 데이터 크기: torch.Size([2492, 3, 32, 32])\n"
          ]
        }
      ],
      "source": [
        "print('train 데이터 크기:',X_train.size())\n",
        "print('test 데이터 크기:',X_test.size())"
      ]
    },
    {
      "cell_type": "code",
      "source": [
        "class IdentityPadding(nn.Module):\n",
        "  def __init__(self, ch_in, ch_out, stride):\n",
        "    super(IdentityPadding, self).__init__()\n",
        "\n",
        "    self.pooling = nn.MaxPool2d(1, stride=stride)\n",
        "    self.add_channels = ch_out - ch_in\n",
        "\n",
        "  def forward(self, x):\n",
        "    output = F.pad(x, (0,0,0,0,0,self.add_channels))\n",
        "    output = self.pooling(output)\n",
        "    return output"
      ],
      "metadata": {
        "id": "uy8AEtvXTSgh"
      },
      "execution_count": null,
      "outputs": []
    },
    {
      "cell_type": "code",
      "source": [
        "class ResidualBlock(nn.Module):\n",
        "  def __init__(self, ch_in, ch_out, stride=1, down_sample=False):\n",
        "    super(ResidualBlock, self).__init__()\n",
        "    self.conv1 = nn.Conv2d(ch_in, ch_out, kernel_size=3, stride=stride, padding=1, bias=False)\n",
        "    self.bn1 = nn.BatchNorm2d(ch_out)\n",
        "    self.relu = nn.ReLU(inplace=True)\n",
        "\n",
        "    self.conv2 = nn.Conv2d(ch_out, ch_out, kernel_size=3, stride=1, padding=1, bias=False)\n",
        "    self.bn2 = nn.BatchNorm2d(ch_out)\n",
        "    self.stride = stride\n",
        "\n",
        "    if down_sample:\n",
        "      self.down_sample = IdentityPadding(ch_in, ch_out, stride)\n",
        "    else:\n",
        "      self.down_sample = None\n",
        "\n",
        "  def forward(self, x):\n",
        "    shortcut = x\n",
        "\n",
        "    output = self.conv1(x)\n",
        "    output = self.bn1(output)\n",
        "    output = self.relu(output)\n",
        "\n",
        "    output = self.conv2(output)\n",
        "    output = self.bn2(output)\n",
        "\n",
        "    if self.down_sample is not None:\n",
        "      shortcut = self.down_sample(x)\n",
        "\n",
        "    output += shortcut\n",
        "    output = self.relu(output)\n",
        "\n",
        "    return output"
      ],
      "metadata": {
        "id": "ovBE1027TUSD"
      },
      "execution_count": null,
      "outputs": []
    },
    {
      "cell_type": "code",
      "execution_count": null,
      "metadata": {
        "id": "qLLCnb3YYcBp"
      },
      "outputs": [],
      "source": [
        "class ResNet(nn.Module):\n",
        "  def __init__(self, block, num_layer, num_classes=4):\n",
        "    super(ResNet, self).__init__()\n",
        "    self.n_layer = num_layer\n",
        "    self.conv1 = nn.Conv2d(3, 16, 3, 1, 1, bias=False)\n",
        "    self.bn1 = nn.BatchNorm2d(16)\n",
        "    self.relu = nn.ReLU(inplace=True)\n",
        "\n",
        "    self.layer_2n = self.make_layer(block, 16, 16, stride=1)\n",
        "    self.layer_4n = self.make_layer(block, 16, 32, stride=2)\n",
        "    self.layer_6n = self.make_layer(block, 32, 64, stride=2)\n",
        "\n",
        "    self.avgpool = nn.AvgPool2d(8, stride=1)\n",
        "    self.fc = nn.Linear(64, num_classes)\n",
        "\n",
        "\n",
        "  def make_layer(self, block, ch_in, ch_out, stride):\n",
        "    if stride == 2:\n",
        "      down_sample = True\n",
        "    else:\n",
        "      down_sample = False\n",
        "\n",
        "    layer = nn.ModuleList([block(ch_in, ch_out, stride, down_sample)])\n",
        "\n",
        "    for i in range(self.n_layer-1) :\n",
        "      layer.append(block(ch_out, ch_out))\n",
        "\n",
        "    return nn.Sequential(*layer)\n",
        "\n",
        "\n",
        "  def forward(self, x):\n",
        "    x = self.conv1(x)\n",
        "    x = self.bn1(x)\n",
        "    x = self.relu(x)\n",
        "\n",
        "    x = self.layer_2n(x)\n",
        "    x = self.layer_4n(x)\n",
        "    x = self.layer_6n(x)\n",
        "\n",
        "    x = self.avgpool(x)\n",
        "    x = x.view(x.size(0), -1)\n",
        "    x = self.fc(x)\n",
        "    return x"
      ]
    },
    {
      "cell_type": "code",
      "source": [
        "num_classes = 4\n",
        "num_layer = 3\n",
        "\n",
        "model = ResNet(ResidualBlock, num_layer, num_classes).to(device)\n",
        "optimizer = optim.Adam(model.parameters(), lr=0.001)\n",
        "criterion = nn.CrossEntropyLoss()"
      ],
      "metadata": {
        "id": "pbEeyP-JTNAI"
      },
      "execution_count": null,
      "outputs": []
    },
    {
      "cell_type": "code",
      "source": [
        "# Resnet 학습 코드\n",
        "epochs = 50\n",
        "batch_size = 64\n",
        "total_batch_num = np.ceil(len(X_train)/batch_size)\n",
        "\n",
        "model.train()\n",
        "for epoch in range(epochs):\n",
        "  model.train()\n",
        "  avg_cost = 0\n",
        "\n",
        "  for i in range(0, len(X_train), batch_size):\n",
        "    b_x = X_train[i:i+batch_size]\n",
        "    b_x = b_x.to(device)\n",
        "    b_y = y_train[i:i+batch_size]\n",
        "    b_y = b_y.to(device)\n",
        "\n",
        "    logits = model(b_x) # forward propagation\n",
        "    loss = criterion(logits, b_y) # get cost\n",
        "\n",
        "    avg_cost += loss / total_batch_num\n",
        "    optimizer.zero_grad()\n",
        "    loss.backward() # backward propagation\n",
        "    optimizer.step() # update parameters\n",
        "\n",
        "  print('Epoch : {} / {}, cost : {}'.format(epoch+1, epochs, avg_cost))"
      ],
      "metadata": {
        "colab": {
          "base_uri": "https://localhost:8080/"
        },
        "id": "15FLqRdhTcYv",
        "outputId": "d257d33f-4e67-465e-8938-f0392c7c4049"
      },
      "execution_count": null,
      "outputs": [
        {
          "output_type": "stream",
          "name": "stdout",
          "text": [
            "Epoch : 1 / 50, cost : 0.65633624792099\n",
            "Epoch : 2 / 50, cost : 0.4083254039287567\n",
            "Epoch : 3 / 50, cost : 0.32314223051071167\n",
            "Epoch : 4 / 50, cost : 0.2793947756290436\n",
            "Epoch : 5 / 50, cost : 0.24513591825962067\n",
            "Epoch : 6 / 50, cost : 0.2014555037021637\n",
            "Epoch : 7 / 50, cost : 0.1869429647922516\n",
            "Epoch : 8 / 50, cost : 0.17372514307498932\n",
            "Epoch : 9 / 50, cost : 0.15326380729675293\n",
            "Epoch : 10 / 50, cost : 0.12183242291212082\n",
            "Epoch : 11 / 50, cost : 0.10489952564239502\n",
            "Epoch : 12 / 50, cost : 0.09579841047525406\n",
            "Epoch : 13 / 50, cost : 0.08716394752264023\n",
            "Epoch : 14 / 50, cost : 0.06082341447472572\n",
            "Epoch : 15 / 50, cost : 0.07120712101459503\n",
            "Epoch : 16 / 50, cost : 0.04488501697778702\n",
            "Epoch : 17 / 50, cost : 0.04359811916947365\n",
            "Epoch : 18 / 50, cost : 0.043434835970401764\n",
            "Epoch : 19 / 50, cost : 0.04015945643186569\n",
            "Epoch : 20 / 50, cost : 0.03561476618051529\n",
            "Epoch : 21 / 50, cost : 0.03253360465168953\n",
            "Epoch : 22 / 50, cost : 0.037687379866838455\n",
            "Epoch : 23 / 50, cost : 0.025764914229512215\n",
            "Epoch : 24 / 50, cost : 0.02889699675142765\n",
            "Epoch : 25 / 50, cost : 0.01929924450814724\n",
            "Epoch : 26 / 50, cost : 0.0169402863830328\n",
            "Epoch : 27 / 50, cost : 0.007440504152327776\n",
            "Epoch : 28 / 50, cost : 0.008298506028950214\n",
            "Epoch : 29 / 50, cost : 0.00773212593048811\n",
            "Epoch : 30 / 50, cost : 0.009735839441418648\n",
            "Epoch : 31 / 50, cost : 0.0482601635158062\n",
            "Epoch : 32 / 50, cost : 0.08832568675279617\n",
            "Epoch : 33 / 50, cost : 0.02384749799966812\n",
            "Epoch : 34 / 50, cost : 0.018107440322637558\n",
            "Epoch : 35 / 50, cost : 0.009254729375243187\n"
          ]
        }
      ]
    },
    {
      "cell_type": "code",
      "source": [
        "# Resnet 정확도 측정 코드\n",
        "\n",
        "total = len(X_test)\n",
        "model.eval()\n",
        "\n",
        "x = X_test.to(device)\n",
        "y = y_test.to(device)\n",
        "\n",
        "with torch.no_grad():\n",
        "  logits = model(x)\n",
        "\n",
        "predicts = torch.argmax(logits, dim=1)\n",
        "correct = (predicts == y).sum().item()\n",
        "\n",
        "print(f'Accuracy of the network on test images: {100 * correct / total} %')"
      ],
      "metadata": {
        "id": "AYv2F6a5Wcrb"
      },
      "execution_count": null,
      "outputs": []
    },
    {
      "cell_type": "code",
      "source": [],
      "metadata": {
        "id": "u95mk6fRZjnd"
      },
      "execution_count": null,
      "outputs": []
    }
  ],
  "metadata": {
    "accelerator": "GPU",
    "colab": {
      "provenance": [],
      "gpuType": "T4",
      "collapsed_sections": [
        "tfkTsp_qVylF"
      ]
    },
    "kernelspec": {
      "display_name": "Python 3",
      "name": "python3"
    },
    "language_info": {
      "name": "python"
    }
  },
  "nbformat": 4,
  "nbformat_minor": 0
}